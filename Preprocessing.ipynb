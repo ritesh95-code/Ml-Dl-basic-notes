{
 "cells": [
  {
   "cell_type": "markdown",
   "id": "671e5503",
   "metadata": {},
   "source": [
    "# Data Preprocessing / Data Wrangling"
   ]
  },
  {
   "cell_type": "code",
   "execution_count": null,
   "id": "003ed2ca",
   "metadata": {},
   "outputs": [],
   "source": [
    "# Import the required libraries\n",
    "import numpy as np\n",
    "import pandas as pd\n",
    "import matplotlib.pyplot as plt\n",
    "import seaborn as sns"
   ]
  },
  {
   "cell_type": "code",
   "execution_count": null,
   "id": "c20def17",
   "metadata": {},
   "outputs": [],
   "source": [
    "pwd  #present working directory"
   ]
  },
  {
   "cell_type": "code",
   "execution_count": null,
   "id": "a98564b1",
   "metadata": {},
   "outputs": [],
   "source": [
    "#load the dataset\n",
    "data=pd.read_csv('insurance.csv')"
   ]
  },
  {
   "cell_type": "code",
   "execution_count": null,
   "id": "e466a113",
   "metadata": {},
   "outputs": [],
   "source": [
    "data.head()"
   ]
  },
  {
   "cell_type": "code",
   "execution_count": null,
   "id": "909558eb",
   "metadata": {},
   "outputs": [],
   "source": [
    "data.tail()"
   ]
  },
  {
   "cell_type": "code",
   "execution_count": null,
   "id": "1f2c421a",
   "metadata": {},
   "outputs": [],
   "source": [
    "# checking dataset size\n",
    "data.shape"
   ]
  },
  {
   "cell_type": "code",
   "execution_count": null,
   "id": "d6405ce7",
   "metadata": {},
   "outputs": [],
   "source": [
    "# Checking the datatype of the parameter(columns)\n",
    "data.info()"
   ]
  },
  {
   "cell_type": "code",
   "execution_count": null,
   "id": "d816e41b",
   "metadata": {},
   "outputs": [],
   "source": [
    "#To Know Column names\n",
    "data.columns"
   ]
  },
  {
   "cell_type": "code",
   "execution_count": null,
   "id": "76d4ea95",
   "metadata": {},
   "outputs": [],
   "source": [
    "#Statistical Analysis/Descriptive Statistics\n",
    "data.describe()"
   ]
  },
  {
   "cell_type": "code",
   "execution_count": null,
   "id": "8ed0b832",
   "metadata": {},
   "outputs": [],
   "source": [
    "data.mean()"
   ]
  },
  {
   "cell_type": "code",
   "execution_count": null,
   "id": "8e03f3fa",
   "metadata": {},
   "outputs": [],
   "source": [
    "data.median()"
   ]
  },
  {
   "cell_type": "code",
   "execution_count": null,
   "id": "3d74f939",
   "metadata": {},
   "outputs": [],
   "source": [
    "data.mode()"
   ]
  },
  {
   "cell_type": "code",
   "execution_count": null,
   "id": "ac28515a",
   "metadata": {},
   "outputs": [],
   "source": [
    "data.var()"
   ]
  },
  {
   "cell_type": "code",
   "execution_count": null,
   "id": "35239585",
   "metadata": {},
   "outputs": [],
   "source": [
    "data.std()"
   ]
  },
  {
   "cell_type": "code",
   "execution_count": null,
   "id": "e0172b7f",
   "metadata": {},
   "outputs": [],
   "source": [
    "data.head()"
   ]
  },
  {
   "cell_type": "code",
   "execution_count": null,
   "id": "38e46d7e",
   "metadata": {},
   "outputs": [],
   "source": [
    "#Checking the null values in the dataset\n",
    "data.isna()"
   ]
  },
  {
   "cell_type": "code",
   "execution_count": null,
   "id": "c671035b",
   "metadata": {},
   "outputs": [],
   "source": [
    "data.isnull().any()"
   ]
  },
  {
   "cell_type": "code",
   "execution_count": null,
   "id": "d96b5111",
   "metadata": {},
   "outputs": [],
   "source": [
    "data.isna().sum()"
   ]
  },
  {
   "cell_type": "code",
   "execution_count": null,
   "id": "c5b4fe78",
   "metadata": {},
   "outputs": [],
   "source": [
    "data.isnull()"
   ]
  },
  {
   "cell_type": "code",
   "execution_count": null,
   "id": "9e9ba00f",
   "metadata": {},
   "outputs": [],
   "source": [
    "data.isnull().sum()"
   ]
  },
  {
   "cell_type": "code",
   "execution_count": null,
   "id": "0c989107",
   "metadata": {},
   "outputs": [],
   "source": [
    "# If we have null values in Numerical column we will replace it with mean or median\n",
    "# If we have null values in Categorical column we will replace it with mode"
   ]
  },
  {
   "cell_type": "code",
   "execution_count": null,
   "id": "df082f45",
   "metadata": {},
   "outputs": [],
   "source": [
    "# incase age colum has missing value we will use below code\n",
    "data['age'].fillna(data['age'].mean(), inplace=True)"
   ]
  },
  {
   "cell_type": "code",
   "execution_count": null,
   "id": "3fe61a1e",
   "metadata": {},
   "outputs": [],
   "source": [
    "#Checking the value counts for categorical Column\n",
    "data.region.value_counts()"
   ]
  },
  {
   "cell_type": "code",
   "execution_count": null,
   "id": "5d321316",
   "metadata": {},
   "outputs": [],
   "source": [
    "data.sex.value_counts()"
   ]
  },
  {
   "cell_type": "code",
   "execution_count": null,
   "id": "9aca2957",
   "metadata": {},
   "outputs": [],
   "source": [
    "data['smoker'].value_counts()"
   ]
  },
  {
   "cell_type": "markdown",
   "id": "5d49a47d",
   "metadata": {},
   "source": [
    "# Data Visualization"
   ]
  },
  {
   "cell_type": "code",
   "execution_count": null,
   "id": "55c0a131",
   "metadata": {},
   "outputs": [],
   "source": [
    "sns.distplot(data['age'])"
   ]
  },
  {
   "cell_type": "code",
   "execution_count": null,
   "id": "9a0c5152",
   "metadata": {},
   "outputs": [],
   "source": [
    "sns.lineplot(x='age',y='charges', data=data)"
   ]
  },
  {
   "cell_type": "code",
   "execution_count": null,
   "id": "78763323",
   "metadata": {},
   "outputs": [],
   "source": [
    "plt.pie(data.smoker.value_counts(),colors=['green','red'], labels=['No','Yes'],autopct='%.1f%%')\n",
    "plt.title('Smoker')"
   ]
  },
  {
   "cell_type": "code",
   "execution_count": null,
   "id": "49edfa1f",
   "metadata": {
    "scrolled": true
   },
   "outputs": [],
   "source": [
    "(data.region.value_counts()).index"
   ]
  },
  {
   "cell_type": "code",
   "execution_count": null,
   "id": "c76f5b8d",
   "metadata": {},
   "outputs": [],
   "source": [
    "data.region.value_counts()"
   ]
  },
  {
   "cell_type": "code",
   "execution_count": null,
   "id": "912bedc6",
   "metadata": {},
   "outputs": [],
   "source": [
    "a=data.region.value_counts().index"
   ]
  },
  {
   "cell_type": "code",
   "execution_count": null,
   "id": "237a644e",
   "metadata": {},
   "outputs": [],
   "source": [
    "a"
   ]
  },
  {
   "cell_type": "code",
   "execution_count": null,
   "id": "6365bc6f",
   "metadata": {},
   "outputs": [],
   "source": [
    "b=data.region.value_counts()"
   ]
  },
  {
   "cell_type": "code",
   "execution_count": null,
   "id": "614959eb",
   "metadata": {},
   "outputs": [],
   "source": [
    "b"
   ]
  },
  {
   "cell_type": "code",
   "execution_count": null,
   "id": "d3b671f6",
   "metadata": {},
   "outputs": [],
   "source": [
    "sns.barplot(x=a, y=b)"
   ]
  },
  {
   "cell_type": "code",
   "execution_count": null,
   "id": "a785a9d4",
   "metadata": {
    "scrolled": true
   },
   "outputs": [],
   "source": [
    "sns.barplot((data.region.value_counts()).index,data.region.value_counts())"
   ]
  },
  {
   "cell_type": "code",
   "execution_count": null,
   "id": "a64fd0a4",
   "metadata": {},
   "outputs": [],
   "source": [
    "sns.scatterplot(x=data.age,y=data.charges)\n",
    "plt.title('Age/Charges')"
   ]
  },
  {
   "cell_type": "code",
   "execution_count": null,
   "id": "5451ca78",
   "metadata": {},
   "outputs": [],
   "source": [
    "plt.pie(data.sex.value_counts(),[0,0.2],colors=['orange','yellow'],labels=['Male','Female'],autopct='%.1f%%' )\n",
    "\n",
    "\n"
   ]
  },
  {
   "cell_type": "code",
   "execution_count": null,
   "id": "7b0a2a4b",
   "metadata": {},
   "outputs": [],
   "source": [
    "data.hist(figsize=(10,8))"
   ]
  },
  {
   "cell_type": "code",
   "execution_count": null,
   "id": "14e5173f",
   "metadata": {},
   "outputs": [],
   "source": [
    "plt.pie(data.region.value_counts(),[0.5,0,0.2,0], colors=['red','blue','yellow','green'],labels=['southeast','southwest','northwest','norteast'],autopct='%.1f%%')"
   ]
  },
  {
   "cell_type": "markdown",
   "id": "9ce1d5ab",
   "metadata": {},
   "source": [
    "# Outlier Detection"
   ]
  },
  {
   "cell_type": "code",
   "execution_count": null,
   "id": "5407f493",
   "metadata": {},
   "outputs": [],
   "source": [
    "sns.boxplot(data.bmi)"
   ]
  },
  {
   "cell_type": "code",
   "execution_count": null,
   "id": "fc94fbe6",
   "metadata": {},
   "outputs": [],
   "source": [
    "perc99=data.bmi.quantile(0.99)\n",
    "perc99"
   ]
  },
  {
   "cell_type": "code",
   "execution_count": null,
   "id": "eaf999aa",
   "metadata": {},
   "outputs": [],
   "source": [
    "data=data[data.bmi<=perc99]\n",
    "sns.boxplot(data.bmi)"
   ]
  },
  {
   "cell_type": "markdown",
   "id": "157a8db0",
   "metadata": {},
   "source": [
    "# Encoding Techniques"
   ]
  },
  {
   "cell_type": "code",
   "execution_count": null,
   "id": "d1e209e0",
   "metadata": {},
   "outputs": [],
   "source": [
    "data.head()"
   ]
  },
  {
   "cell_type": "markdown",
   "id": "22f59816",
   "metadata": {},
   "source": [
    "# Label Encoding"
   ]
  },
  {
   "cell_type": "code",
   "execution_count": null,
   "id": "f1359a27",
   "metadata": {},
   "outputs": [],
   "source": [
    "from sklearn.preprocessing import LabelEncoder"
   ]
  },
  {
   "cell_type": "code",
   "execution_count": null,
   "id": "bb8f6247",
   "metadata": {},
   "outputs": [],
   "source": [
    "le=LabelEncoder()"
   ]
  },
  {
   "cell_type": "code",
   "execution_count": null,
   "id": "34b4d827",
   "metadata": {},
   "outputs": [],
   "source": [
    "data.sex=le.fit_transform(data.sex)"
   ]
  },
  {
   "cell_type": "code",
   "execution_count": null,
   "id": "bef226c8",
   "metadata": {},
   "outputs": [],
   "source": [
    "data.head()"
   ]
  },
  {
   "cell_type": "code",
   "execution_count": null,
   "id": "2b3e0d5e",
   "metadata": {},
   "outputs": [],
   "source": [
    "data.smoker=le.fit_transform(data.smoker)"
   ]
  },
  {
   "cell_type": "code",
   "execution_count": null,
   "id": "80136ca8",
   "metadata": {},
   "outputs": [],
   "source": [
    "data.head()"
   ]
  },
  {
   "cell_type": "markdown",
   "id": "cf4a10a2",
   "metadata": {},
   "source": [
    "# One Hot Encoding"
   ]
  },
  {
   "cell_type": "code",
   "execution_count": null,
   "id": "bcc6e91d",
   "metadata": {},
   "outputs": [],
   "source": [
    "data_min=pd.get_dummies(data,columns=['region'])"
   ]
  },
  {
   "cell_type": "code",
   "execution_count": null,
   "id": "e12a75a3",
   "metadata": {},
   "outputs": [],
   "source": [
    "data_min.head()"
   ]
  },
  {
   "cell_type": "markdown",
   "id": "a3672152",
   "metadata": {},
   "source": [
    "# Correlation"
   ]
  },
  {
   "cell_type": "code",
   "execution_count": null,
   "id": "39c8a09d",
   "metadata": {},
   "outputs": [],
   "source": [
    "data_min.corr()"
   ]
  },
  {
   "cell_type": "markdown",
   "id": "df6538d8",
   "metadata": {},
   "source": [
    "# Heatmap"
   ]
  },
  {
   "cell_type": "code",
   "execution_count": null,
   "id": "24e8362f",
   "metadata": {},
   "outputs": [],
   "source": [
    "plt.figure(figsize=(10,8))\n",
    "sns.heatmap(data_min.corr(),annot=True)"
   ]
  },
  {
   "cell_type": "code",
   "execution_count": null,
   "id": "24f47188",
   "metadata": {},
   "outputs": [],
   "source": [
    "data_min.corr().charges.sort_values(ascending=False)"
   ]
  },
  {
   "cell_type": "code",
   "execution_count": null,
   "id": "0063a792",
   "metadata": {},
   "outputs": [],
   "source": [
    "data_min.head()"
   ]
  },
  {
   "cell_type": "markdown",
   "id": "6875d5f4",
   "metadata": {},
   "source": [
    "# X and Y Split"
   ]
  },
  {
   "cell_type": "code",
   "execution_count": null,
   "id": "36f93a28",
   "metadata": {},
   "outputs": [],
   "source": [
    "# Y is dependent variable(target)"
   ]
  },
  {
   "cell_type": "code",
   "execution_count": null,
   "id": "ae83d8c8",
   "metadata": {},
   "outputs": [],
   "source": [
    "y=data_min['charges']"
   ]
  },
  {
   "cell_type": "code",
   "execution_count": null,
   "id": "50fc986f",
   "metadata": {},
   "outputs": [],
   "source": [
    "y.head()"
   ]
  },
  {
   "cell_type": "code",
   "execution_count": null,
   "id": "37bfaa11",
   "metadata": {},
   "outputs": [],
   "source": [
    "# X is Independent variable or predictors\n",
    "X=data_min.drop(columns=['charges'],axis=1)"
   ]
  },
  {
   "cell_type": "code",
   "execution_count": null,
   "id": "ed36d595",
   "metadata": {},
   "outputs": [],
   "source": [
    "X.head()"
   ]
  },
  {
   "cell_type": "markdown",
   "id": "ae90cea2",
   "metadata": {},
   "source": [
    "# Scaling"
   ]
  },
  {
   "cell_type": "code",
   "execution_count": null,
   "id": "87df3ef0",
   "metadata": {},
   "outputs": [],
   "source": [
    "# Standard Scaling  -mean=0 and Std=1\n",
    "# Minmax Scaling ....values after scaling are between 0 and 1"
   ]
  },
  {
   "cell_type": "code",
   "execution_count": null,
   "id": "39452265",
   "metadata": {},
   "outputs": [],
   "source": [
    "names=X.columns"
   ]
  },
  {
   "cell_type": "code",
   "execution_count": null,
   "id": "203c5076",
   "metadata": {},
   "outputs": [],
   "source": [
    "names"
   ]
  },
  {
   "cell_type": "code",
   "execution_count": null,
   "id": "8d3c7b07",
   "metadata": {},
   "outputs": [],
   "source": [
    "from sklearn.preprocessing import MinMaxScaler"
   ]
  },
  {
   "cell_type": "code",
   "execution_count": null,
   "id": "b3db0be7",
   "metadata": {},
   "outputs": [],
   "source": [
    "scale=MinMaxScaler()"
   ]
  },
  {
   "cell_type": "code",
   "execution_count": null,
   "id": "8c5258e4",
   "metadata": {},
   "outputs": [],
   "source": [
    "X_scaled=scale.fit_transform(X)"
   ]
  },
  {
   "cell_type": "code",
   "execution_count": null,
   "id": "c36175b1",
   "metadata": {},
   "outputs": [],
   "source": [
    "X_scaled"
   ]
  },
  {
   "cell_type": "code",
   "execution_count": null,
   "id": "be80a0fc",
   "metadata": {},
   "outputs": [],
   "source": [
    "X=pd.DataFrame(X_scaled, columns=names)"
   ]
  },
  {
   "cell_type": "code",
   "execution_count": null,
   "id": "7525a52a",
   "metadata": {},
   "outputs": [],
   "source": [
    "X.head()"
   ]
  },
  {
   "cell_type": "code",
   "execution_count": null,
   "id": "46c0d6b2",
   "metadata": {},
   "outputs": [],
   "source": [
    "from  sklearn.model_selection import train_test_split"
   ]
  },
  {
   "cell_type": "code",
   "execution_count": null,
   "id": "fd88778f",
   "metadata": {},
   "outputs": [],
   "source": [
    "X_train,X_test,y_train,y_test=train_test_split(X,y,test_size=0.2,random_state=0)"
   ]
  },
  {
   "cell_type": "code",
   "execution_count": null,
   "id": "61d07da3",
   "metadata": {},
   "outputs": [],
   "source": [
    "X_train.head()"
   ]
  },
  {
   "cell_type": "code",
   "execution_count": null,
   "id": "7af49a75",
   "metadata": {},
   "outputs": [],
   "source": [
    "X_test.head()"
   ]
  },
  {
   "cell_type": "code",
   "execution_count": null,
   "id": "19197fcc",
   "metadata": {},
   "outputs": [],
   "source": [
    "y_train"
   ]
  },
  {
   "cell_type": "code",
   "execution_count": null,
   "id": "21db9b06",
   "metadata": {},
   "outputs": [],
   "source": [
    "y_test"
   ]
  },
  {
   "cell_type": "code",
   "execution_count": null,
   "id": "bb6c6b1b",
   "metadata": {},
   "outputs": [],
   "source": []
  },
  {
   "cell_type": "code",
   "execution_count": null,
   "id": "15aac2d4",
   "metadata": {},
   "outputs": [],
   "source": []
  },
  {
   "cell_type": "code",
   "execution_count": null,
   "id": "1c1f8ab8",
   "metadata": {},
   "outputs": [],
   "source": []
  }
 ],
 "metadata": {
  "kernelspec": {
   "display_name": "Python 3 (ipykernel)",
   "language": "python",
   "name": "python3"
  },
  "language_info": {
   "codemirror_mode": {
    "name": "ipython",
    "version": 3
   },
   "file_extension": ".py",
   "mimetype": "text/x-python",
   "name": "python",
   "nbconvert_exporter": "python",
   "pygments_lexer": "ipython3",
   "version": "3.9.13"
  }
 },
 "nbformat": 4,
 "nbformat_minor": 5
}
