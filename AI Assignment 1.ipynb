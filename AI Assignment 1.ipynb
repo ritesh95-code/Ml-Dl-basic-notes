{
  "nbformat": 4,
  "nbformat_minor": 0,
  "metadata": {
    "colab": {
      "provenance": []
    },
    "kernelspec": {
      "name": "python3",
      "display_name": "Python 3"
    },
    "language_info": {
      "name": "python"
    }
  },
  "cells": [
    {
      "cell_type": "markdown",
      "source": [
        "**AI ASSIGNMENT 1**\n",
        "\n",
        "\n",
        "\n",
        "\n"
      ],
      "metadata": {
        "id": "rwolh03_4gdR"
      }
    },
    {
      "cell_type": "markdown",
      "source": [
        "1. Write a python Program to display the last digit of number(hint: Any number divide by 10 will return last digit)"
      ],
      "metadata": {
        "id": "0qEHtvtK6Tke"
      }
    },
    {
      "cell_type": "markdown",
      "source": [
        "2. Write a function to Calculate Area and Perimeter of Rectangle"
      ],
      "metadata": {
        "id": "heU4XmV16VkJ"
      }
    },
    {
      "cell_type": "markdown",
      "source": [
        "3. Write a python Program to find out given No is Prime or Not."
      ],
      "metadata": {
        "id": "Wqp4d9mQ6aRq"
      }
    },
    {
      "cell_type": "markdown",
      "source": [
        "4. Write a Python program that prompts the user to input three numbers and then determines and\n",
        "prints the largest among them."
      ],
      "metadata": {
        "id": "Sj-3sBDF6l7Z"
      }
    },
    {
      "cell_type": "markdown",
      "source": [
        "5. Write a Python program to calculate electricity bill (accept no of unit from user) according to following criteria: Unit Price\n",
        "First 100 units  no charge\n",
        "Next 100 units Rs 5 per Unit\n",
        "After 200 Units Rs 10 per Unit\n",
        "(For Example if input unit is 350 then total bill amount is 2000)"
      ],
      "metadata": {
        "id": "FOIyQFuq6n4Y"
      }
    },
    {
      "cell_type": "markdown",
      "source": [
        "6. Write a program to accept numbers from 1-7 and display name of day like- 1 for sunday, 2 for Monday and so on."
      ],
      "metadata": {
        "id": "GPchIstz6qf6"
      }
    },
    {
      "cell_type": "markdown",
      "source": [
        "7. Write a python program to check given word is Palindrome or not"
      ],
      "metadata": {
        "id": "YBu4Q-t-6tuS"
      }
    },
    {
      "cell_type": "markdown",
      "source": [
        "8. Download the Dataset- https://www.kaggle.com/datasets/mohamedafsal007/house-price-dataset-of-india\n",
        "Load the dataset."
      ],
      "metadata": {
        "id": "jOxjIpQI6vig"
      }
    },
    {
      "cell_type": "markdown",
      "source": [
        "9. Perform Univariate Analysis"
      ],
      "metadata": {
        "id": "DAK97Oan6x9g"
      }
    },
    {
      "cell_type": "markdown",
      "source": [
        "10. Perform Bivariate Analysis"
      ],
      "metadata": {
        "id": "zUXt-neR60sH"
      }
    },
    {
      "cell_type": "markdown",
      "source": [
        "11. Perform Descriptive Statistics"
      ],
      "metadata": {
        "id": "yk7oDlSC62_E"
      }
    },
    {
      "cell_type": "code",
      "source": [],
      "metadata": {
        "id": "Z4zjJleO66IH"
      },
      "execution_count": null,
      "outputs": []
    }
  ]
}