{
 "cells": [
  {
   "cell_type": "markdown",
   "id": "504f425d",
   "metadata": {},
   "source": [
    "# SVM "
   ]
  },
  {
   "cell_type": "code",
   "execution_count": null,
   "id": "3411ac4e",
   "metadata": {},
   "outputs": [],
   "source": [
    "\n",
    "# importing required libraries\n",
    "import pandas as pd\n",
    "import numpy as np\n",
    "import seaborn as sns\n",
    "import matplotlib.pyplot as plt\n",
    "from sklearn.model_selection import train_test_split\n",
    "from sklearn.preprocessing import LabelEncoder\n",
    "\n",
    "from sklearn import metrics"
   ]
  },
  {
   "cell_type": "code",
   "execution_count": null,
   "id": "4afcce58",
   "metadata": {},
   "outputs": [],
   "source": [
    "# Reading the dataset (csv file)\n",
    "data = pd.read_csv('Iris.csv')"
   ]
  },
  {
   "cell_type": "code",
   "execution_count": null,
   "id": "ec1294a6",
   "metadata": {},
   "outputs": [],
   "source": [
    "# Visualizing 1st 5 rows\n",
    "data.head()"
   ]
  },
  {
   "cell_type": "code",
   "execution_count": null,
   "id": "b8ac1365",
   "metadata": {},
   "outputs": [],
   "source": [
    "data.Species.unique()"
   ]
  },
  {
   "cell_type": "code",
   "execution_count": null,
   "id": "b486fcb9",
   "metadata": {},
   "outputs": [],
   "source": [
    "sns.scatterplot(x='SepalLengthCm',y=\"SepalWidthCm\", hue='Species', data=data)\n",
    "\n"
   ]
  },
  {
   "cell_type": "code",
   "execution_count": null,
   "id": "4cb238e6",
   "metadata": {
    "scrolled": true
   },
   "outputs": [],
   "source": [
    "# Descriptive stats\n",
    "data.describe()"
   ]
  },
  {
   "cell_type": "code",
   "execution_count": null,
   "id": "a966b20d",
   "metadata": {},
   "outputs": [],
   "source": [
    "# Finding for null values\n",
    "data.isnull().sum()"
   ]
  },
  {
   "cell_type": "code",
   "execution_count": null,
   "id": "15c0208e",
   "metadata": {},
   "outputs": [],
   "source": [
    "# Removing unwanted columns\n",
    "data.drop(columns=['Id'],inplace=True)"
   ]
  },
  {
   "cell_type": "code",
   "execution_count": null,
   "id": "708d3606",
   "metadata": {},
   "outputs": [],
   "source": [
    "# Spliting dependent and independent variable\n",
    "x = data.iloc[:,:-1]\n",
    "y = data['Species']"
   ]
  },
  {
   "cell_type": "code",
   "execution_count": null,
   "id": "f053e8fe",
   "metadata": {},
   "outputs": [],
   "source": [
    "# Spliting data for train and test\n",
    "x_train,x_test,y_train,y_test = train_test_split(x,y,test_size=0.2,random_state=0)"
   ]
  },
  {
   "cell_type": "markdown",
   "id": "a167e4a5",
   "metadata": {},
   "source": [
    "# SVM - Linear kernals"
   ]
  },
  {
   "cell_type": "code",
   "execution_count": null,
   "id": "755953ec",
   "metadata": {},
   "outputs": [],
   "source": [
    "# SVM is a model from sklearn library\n",
    "from sklearn.svm import SVC "
   ]
  },
  {
   "cell_type": "code",
   "execution_count": null,
   "id": "a4ff25ce",
   "metadata": {},
   "outputs": [],
   "source": [
    "# Initializing SVM\n",
    "model = SVC(kernel=\"linear\") #if data is linearly sepearable "
   ]
  },
  {
   "cell_type": "code",
   "execution_count": null,
   "id": "b91352b2",
   "metadata": {},
   "outputs": [],
   "source": [
    "# Training model\n",
    "MSVC = model.fit(x_train,y_train)"
   ]
  },
  {
   "cell_type": "code",
   "execution_count": null,
   "id": "674e109a",
   "metadata": {},
   "outputs": [],
   "source": [
    "# Testing model\n",
    "pred = MSVC.predict(x_test)"
   ]
  },
  {
   "cell_type": "code",
   "execution_count": null,
   "id": "71b3b88c",
   "metadata": {},
   "outputs": [],
   "source": [
    "# Evaluating model performance\n",
    "metrics.confusion_matrix(pred,y_test)"
   ]
  },
  {
   "cell_type": "code",
   "execution_count": null,
   "id": "c82d53d9",
   "metadata": {},
   "outputs": [],
   "source": [
    "# Evaluating model performance\n",
    "metrics.accuracy_score(pred,y_test)"
   ]
  },
  {
   "cell_type": "markdown",
   "id": "8332eed5",
   "metadata": {},
   "source": [
    "# SVM Non-Linear Kernals"
   ]
  },
  {
   "cell_type": "code",
   "execution_count": null,
   "id": "3a2415e7",
   "metadata": {},
   "outputs": [],
   "source": [
    "# when we apply non-linear models on linearly seperable data,model will be specfic in prediction\n",
    "# high variance and overfitted model will be generated\n",
    "#Applying a linear kernel to non-linearly separable data may lead to poor performance and underfitting.\n"
   ]
  },
  {
   "cell_type": "code",
   "execution_count": null,
   "id": "86fd5f11",
   "metadata": {},
   "outputs": [],
   "source": [
    "from sklearn.svm import SVC"
   ]
  },
  {
   "cell_type": "code",
   "execution_count": null,
   "id": "a85c3a4f",
   "metadata": {},
   "outputs": [],
   "source": [
    "# Initializing SVM\n",
    "model = SVC(kernel=\"rbf\")   # polynomial kernal = usually overfitted model,prediction is specific in nature"
   ]
  },
  {
   "cell_type": "code",
   "execution_count": null,
   "id": "b023f32c",
   "metadata": {},
   "outputs": [],
   "source": [
    "# Training model\n",
    "fit = model.fit(x_train,y_train)"
   ]
  },
  {
   "cell_type": "code",
   "execution_count": null,
   "id": "a1d2eee5",
   "metadata": {},
   "outputs": [],
   "source": [
    "# Testing model\n",
    "pred = fit.predict(x_test)"
   ]
  },
  {
   "cell_type": "code",
   "execution_count": null,
   "id": "701885b7",
   "metadata": {},
   "outputs": [],
   "source": [
    "metrics.confusion_matrix(pred,y_test)"
   ]
  },
  {
   "cell_type": "code",
   "execution_count": null,
   "id": "68e85388",
   "metadata": {},
   "outputs": [],
   "source": [
    "metrics.accuracy_score(pred,y_test)"
   ]
  },
  {
   "cell_type": "code",
   "execution_count": null,
   "id": "b47d8aea",
   "metadata": {},
   "outputs": [],
   "source": []
  },
  {
   "cell_type": "code",
   "execution_count": null,
   "id": "f011a70b",
   "metadata": {},
   "outputs": [],
   "source": []
  }
 ],
 "metadata": {
  "kernelspec": {
   "display_name": "Python 3 (ipykernel)",
   "language": "python",
   "name": "python3"
  },
  "language_info": {
   "codemirror_mode": {
    "name": "ipython",
    "version": 3
   },
   "file_extension": ".py",
   "mimetype": "text/x-python",
   "name": "python",
   "nbconvert_exporter": "python",
   "pygments_lexer": "ipython3",
   "version": "3.9.13"
  }
 },
 "nbformat": 4,
 "nbformat_minor": 5
}
