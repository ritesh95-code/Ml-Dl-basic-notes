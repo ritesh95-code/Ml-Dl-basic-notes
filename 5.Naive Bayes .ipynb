{
 "cells": [
  {
   "cell_type": "markdown",
   "id": "6909cde8",
   "metadata": {},
   "source": [
    "# Navies Bayes "
   ]
  },
  {
   "cell_type": "code",
   "execution_count": null,
   "id": "65b7877c",
   "metadata": {},
   "outputs": [],
   "source": [
    "# importing required libraries\n",
    "import pandas as pd\n",
    "import numpy as np\n",
    "import seaborn as sns\n"
   ]
  },
  {
   "cell_type": "code",
   "execution_count": null,
   "id": "8d497434",
   "metadata": {},
   "outputs": [],
   "source": [
    "# Read the data\n",
    "data = pd.read_csv(\"house-votes-84.csv\")"
   ]
  },
  {
   "cell_type": "code",
   "execution_count": null,
   "id": "0e1203fa",
   "metadata": {},
   "outputs": [],
   "source": [
    "pwd"
   ]
  },
  {
   "cell_type": "code",
   "execution_count": null,
   "id": "f45774ed",
   "metadata": {
    "scrolled": false
   },
   "outputs": [],
   "source": [
    "# Visualizing 1st 5 rows\n",
    "data.head()"
   ]
  },
  {
   "cell_type": "code",
   "execution_count": null,
   "id": "c5d189b6",
   "metadata": {},
   "outputs": [],
   "source": [
    "# Finding shape\n",
    "data.shape"
   ]
  },
  {
   "cell_type": "code",
   "execution_count": null,
   "id": "994215d4",
   "metadata": {},
   "outputs": [],
   "source": [
    "# # Finding for null values\n",
    "data.isnull().sum()"
   ]
  },
  {
   "cell_type": "code",
   "execution_count": null,
   "id": "f573cb95",
   "metadata": {},
   "outputs": [],
   "source": [
    "# Checking data types\n",
    "data.info()"
   ]
  },
  {
   "cell_type": "code",
   "execution_count": null,
   "id": "71af22c9",
   "metadata": {},
   "outputs": [],
   "source": [
    "# Spliting dependent and independent variable\n",
    "x = data.iloc[:,1:]\n",
    "y = data.iloc[:,0]"
   ]
  },
  {
   "cell_type": "code",
   "execution_count": null,
   "id": "5fe1545a",
   "metadata": {},
   "outputs": [],
   "source": [
    "names = x.columns"
   ]
  },
  {
   "cell_type": "code",
   "execution_count": null,
   "id": "6842847f",
   "metadata": {},
   "outputs": [],
   "source": [
    "names"
   ]
  },
  {
   "cell_type": "code",
   "execution_count": null,
   "id": "3921000d",
   "metadata": {},
   "outputs": [],
   "source": [
    "# Manual Encoding\n",
    "x=np.where(x == 'y',1,x)"
   ]
  },
  {
   "cell_type": "code",
   "execution_count": null,
   "id": "6592cea4",
   "metadata": {},
   "outputs": [],
   "source": [
    "# Manual Encoding\n",
    "x = np.where(x == 'n',0,x)"
   ]
  },
  {
   "cell_type": "code",
   "execution_count": null,
   "id": "239b150e",
   "metadata": {},
   "outputs": [],
   "source": [
    "# Manual Encoding\n",
    "x = np.where(x == \"?\",1,x)"
   ]
  },
  {
   "cell_type": "code",
   "execution_count": null,
   "id": "277fe7b8",
   "metadata": {},
   "outputs": [],
   "source": [
    "x"
   ]
  },
  {
   "cell_type": "code",
   "execution_count": null,
   "id": "9740a92f",
   "metadata": {},
   "outputs": [],
   "source": [
    "# Creating DataFrame\n",
    "x = pd.DataFrame(x,columns=names)"
   ]
  },
  {
   "cell_type": "code",
   "execution_count": null,
   "id": "4865bd7e",
   "metadata": {},
   "outputs": [],
   "source": [
    "x.head()"
   ]
  },
  {
   "cell_type": "code",
   "execution_count": null,
   "id": "ef225937",
   "metadata": {},
   "outputs": [],
   "source": []
  },
  {
   "cell_type": "code",
   "execution_count": null,
   "id": "c6f80b62",
   "metadata": {
    "scrolled": true
   },
   "outputs": [],
   "source": [
    "# Discriptive stats\n",
    "x.describe()"
   ]
  },
  {
   "cell_type": "code",
   "execution_count": null,
   "id": "073aa46c",
   "metadata": {},
   "outputs": [],
   "source": [
    "# Data spliting into test and train\n",
    "from sklearn.model_selection import train_test_split\n",
    "x_train,x_test,y_train,y_test = train_test_split(x,y,test_size=0.2,random_state=0)"
   ]
  },
  {
   "cell_type": "code",
   "execution_count": null,
   "id": "4777fa10",
   "metadata": {},
   "outputs": [],
   "source": [
    "# Initializing Naive bayes model\n",
    "from sklearn.naive_bayes import GaussianNB\n",
    "nb = GaussianNB()"
   ]
  },
  {
   "cell_type": "code",
   "execution_count": null,
   "id": "7fc86f0e",
   "metadata": {},
   "outputs": [],
   "source": [
    "# fitting the model\n",
    "nb.fit(x_train,y_train)  "
   ]
  },
  {
   "cell_type": "code",
   "execution_count": null,
   "id": "e97a4d0d",
   "metadata": {},
   "outputs": [],
   "source": [
    "# Testing \n",
    "pred = nb.predict(x_test) "
   ]
  },
  {
   "cell_type": "code",
   "execution_count": null,
   "id": "1eb45685",
   "metadata": {},
   "outputs": [],
   "source": [
    "pred"
   ]
  },
  {
   "cell_type": "code",
   "execution_count": null,
   "id": "51377304",
   "metadata": {},
   "outputs": [],
   "source": [
    "# Evaluating model performance\n",
    "from sklearn import metrics\n",
    "metrics.confusion_matrix(pred,y_test)"
   ]
  },
  {
   "cell_type": "code",
   "execution_count": null,
   "id": "91071830",
   "metadata": {},
   "outputs": [],
   "source": [
    "# Evaluating model performance\n",
    "print(metrics.classification_report(pred,y_test)) "
   ]
  },
  {
   "cell_type": "code",
   "execution_count": null,
   "id": "7fd07d5e",
   "metadata": {},
   "outputs": [],
   "source": [
    "from sklearn.metrics import accuracy_score"
   ]
  },
  {
   "cell_type": "code",
   "execution_count": null,
   "id": "ab90fb6e",
   "metadata": {},
   "outputs": [],
   "source": [
    "accuracy_score(pred,y_test)"
   ]
  },
  {
   "cell_type": "code",
   "execution_count": null,
   "id": "282b03e1",
   "metadata": {},
   "outputs": [],
   "source": []
  },
  {
   "cell_type": "code",
   "execution_count": null,
   "id": "0294cc68",
   "metadata": {},
   "outputs": [],
   "source": []
  }
 ],
 "metadata": {
  "kernelspec": {
   "display_name": "Python 3 (ipykernel)",
   "language": "python",
   "name": "python3"
  },
  "language_info": {
   "codemirror_mode": {
    "name": "ipython",
    "version": 3
   },
   "file_extension": ".py",
   "mimetype": "text/x-python",
   "name": "python",
   "nbconvert_exporter": "python",
   "pygments_lexer": "ipython3",
   "version": "3.9.13"
  }
 },
 "nbformat": 4,
 "nbformat_minor": 5
}
