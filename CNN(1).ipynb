{
 "cells": [
  {
   "cell_type": "code",
   "execution_count": null,
   "id": "bdd6c84a",
   "metadata": {},
   "outputs": [],
   "source": [
    "from tensorflow.keras.models import Sequential\n",
    "from tensorflow.keras.layers import Dense\n",
    "from tensorflow.keras.layers import Convolution2D\n",
    "from tensorflow.keras.layers import MaxPooling2D\n",
    "from tensorflow.keras.layers import Flatten\n",
    "import warnings\n",
    "\n",
    "# To ignore all warnings\n",
    "warnings.filterwarnings(\"ignore\")"
   ]
  },
  {
   "cell_type": "code",
   "execution_count": null,
   "id": "d89fc36b",
   "metadata": {},
   "outputs": [],
   "source": [
    "from tensorflow.keras.preprocessing.image import ImageDataGenerator\n",
    "train_datagen=ImageDataGenerator(rescale=1./255,shear_range=0.2,zoom_range=0.2,horizontal_flip=True)\n",
    "test_datagen=ImageDataGenerator(rescale=1./255)"
   ]
  },
  {
   "cell_type": "code",
   "execution_count": null,
   "id": "2d5515ca",
   "metadata": {},
   "outputs": [],
   "source": [
    "x_train=train_datagen.flow_from_directory(r'C:\\Users\\indra\\OneDrive\\Desktop\\BK Birla\\Crop-animal data\\Crop-animal data\\trainset',target_size=(64,64),batch_size = 32,class_mode='categorical')\n",
    "x_test=test_datagen.flow_from_directory(r'C:\\Users\\indra\\OneDrive\\Desktop\\BK Birla\\Crop-animal data\\Crop-animal data\\testset',target_size=(64,64),batch_size=32,class_mode='categorical')                                      "
   ]
  },
  {
   "cell_type": "code",
   "execution_count": null,
   "id": "23f8e88d",
   "metadata": {},
   "outputs": [],
   "source": [
    "x_train.class_indices"
   ]
  },
  {
   "cell_type": "code",
   "execution_count": null,
   "id": "0136fbb8",
   "metadata": {},
   "outputs": [],
   "source": [
    "model=Sequential()"
   ]
  },
  {
   "cell_type": "code",
   "execution_count": null,
   "id": "b1aaa2fb",
   "metadata": {},
   "outputs": [],
   "source": [
    "model.add(Convolution2D((32),(3,3),input_shape=(64,64,3),activation='relu'))"
   ]
  },
  {
   "cell_type": "code",
   "execution_count": null,
   "id": "718d8d97",
   "metadata": {},
   "outputs": [],
   "source": [
    "model.add(MaxPooling2D(pool_size=(2,2)))"
   ]
  },
  {
   "cell_type": "code",
   "execution_count": null,
   "id": "1eab2b53",
   "metadata": {},
   "outputs": [],
   "source": [
    "model.add(Flatten())"
   ]
  },
  {
   "cell_type": "code",
   "execution_count": null,
   "id": "d6eee8a6",
   "metadata": {},
   "outputs": [],
   "source": [
    "model.add(Dense(units=128,kernel_initializer='random_uniform',activation='relu')) #first Hidden layer"
   ]
  },
  {
   "cell_type": "code",
   "execution_count": null,
   "id": "66376b5c",
   "metadata": {},
   "outputs": [],
   "source": [
    "model.add(Dense(units=128,kernel_initializer='random_uniform',activation='relu')) #second hidden layer"
   ]
  },
  {
   "cell_type": "code",
   "execution_count": null,
   "id": "4cb432e9",
   "metadata": {},
   "outputs": [],
   "source": [
    "model.add(Dense(units=5,kernel_initializer='random_uniform',activation='softmax'))"
   ]
  },
  {
   "cell_type": "code",
   "execution_count": null,
   "id": "fe7e5487",
   "metadata": {},
   "outputs": [],
   "source": [
    "model.compile(loss='categorical_crossentropy',optimizer='adam',metrics=['accuracy'])"
   ]
  },
  {
   "cell_type": "code",
   "execution_count": null,
   "id": "65ddd71d",
   "metadata": {},
   "outputs": [],
   "source": [
    "model.fit_generator(x_train,steps_per_epoch=46,epochs=25,validation_data=x_test,validation_steps=20)"
   ]
  },
  {
   "cell_type": "code",
   "execution_count": null,
   "id": "2d28efe5",
   "metadata": {},
   "outputs": [],
   "source": [
    "#model.fit_generator(x_train, epochs=10, validation_data=x_test)"
   ]
  },
  {
   "cell_type": "code",
   "execution_count": null,
   "id": "4fdc48ab",
   "metadata": {},
   "outputs": [],
   "source": [
    "model.save('animal1.h5')#Deep learning model should be saved with extension h5"
   ]
  },
  {
   "cell_type": "code",
   "execution_count": null,
   "id": "dd578ace",
   "metadata": {},
   "outputs": [],
   "source": []
  }
 ],
 "metadata": {
  "kernelspec": {
   "display_name": "Python 3 (ipykernel)",
   "language": "python",
   "name": "python3"
  },
  "language_info": {
   "codemirror_mode": {
    "name": "ipython",
    "version": 3
   },
   "file_extension": ".py",
   "mimetype": "text/x-python",
   "name": "python",
   "nbconvert_exporter": "python",
   "pygments_lexer": "ipython3",
   "version": "3.9.13"
  }
 },
 "nbformat": 4,
 "nbformat_minor": 5
}
