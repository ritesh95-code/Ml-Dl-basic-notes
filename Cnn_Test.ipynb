{
 "cells": [
  {
   "cell_type": "code",
   "execution_count": null,
   "id": "d78f441c",
   "metadata": {},
   "outputs": [],
   "source": [
    "from tensorflow.keras.models import load_model\n",
    "from tensorflow.keras.preprocessing import image"
   ]
  },
  {
   "cell_type": "code",
   "execution_count": null,
   "id": "fa816896",
   "metadata": {},
   "outputs": [],
   "source": [
    "model=load_model('animal1.h5')"
   ]
  },
  {
   "cell_type": "code",
   "execution_count": null,
   "id": "a68134c1",
   "metadata": {},
   "outputs": [],
   "source": [
    "img=image.load_img('elephant.jpeg',target_size=(64,64))"
   ]
  },
  {
   "cell_type": "code",
   "execution_count": null,
   "id": "761351c4",
   "metadata": {},
   "outputs": [],
   "source": [
    "type(img)"
   ]
  },
  {
   "cell_type": "code",
   "execution_count": null,
   "id": "833277b0",
   "metadata": {},
   "outputs": [],
   "source": [
    "import numpy as np\n",
    "x=image.img_to_array(img)"
   ]
  },
  {
   "cell_type": "code",
   "execution_count": null,
   "id": "ed44f453",
   "metadata": {},
   "outputs": [],
   "source": [
    "type(x)"
   ]
  },
  {
   "cell_type": "code",
   "execution_count": null,
   "id": "1c536add",
   "metadata": {},
   "outputs": [],
   "source": [
    "x.shape"
   ]
  },
  {
   "cell_type": "code",
   "execution_count": null,
   "id": "2a0815fe",
   "metadata": {},
   "outputs": [],
   "source": [
    "x=np.expand_dims(x,axis=0)"
   ]
  },
  {
   "cell_type": "code",
   "execution_count": null,
   "id": "bcdbae3e",
   "metadata": {},
   "outputs": [],
   "source": [
    "x.shape"
   ]
  },
  {
   "cell_type": "code",
   "execution_count": null,
   "id": "9eddd543",
   "metadata": {},
   "outputs": [],
   "source": [
    "pred=model.predict(x)"
   ]
  },
  {
   "cell_type": "code",
   "execution_count": null,
   "id": "79d8fac8",
   "metadata": {},
   "outputs": [],
   "source": [
    "pred"
   ]
  },
  {
   "cell_type": "code",
   "execution_count": null,
   "id": "5f38c85b",
   "metadata": {},
   "outputs": [],
   "source": [
    "p=np.argmax(pred)"
   ]
  },
  {
   "cell_type": "code",
   "execution_count": null,
   "id": "4ed40fbf",
   "metadata": {},
   "outputs": [],
   "source": [
    "p"
   ]
  },
  {
   "cell_type": "code",
   "execution_count": null,
   "id": "3768d0ce",
   "metadata": {},
   "outputs": [],
   "source": [
    "index=['bears','crow','elephant','racoon','rat']"
   ]
  },
  {
   "cell_type": "code",
   "execution_count": null,
   "id": "ae86d021",
   "metadata": {},
   "outputs": [],
   "source": [
    "animal=index[p]"
   ]
  },
  {
   "cell_type": "code",
   "execution_count": null,
   "id": "ad167177",
   "metadata": {},
   "outputs": [],
   "source": [
    "animal"
   ]
  },
  {
   "cell_type": "code",
   "execution_count": null,
   "id": "b5937905",
   "metadata": {},
   "outputs": [],
   "source": []
  },
  {
   "cell_type": "code",
   "execution_count": null,
   "id": "56d95497",
   "metadata": {},
   "outputs": [],
   "source": []
  }
 ],
 "metadata": {
  "kernelspec": {
   "display_name": "Python 3 (ipykernel)",
   "language": "python",
   "name": "python3"
  },
  "language_info": {
   "codemirror_mode": {
    "name": "ipython",
    "version": 3
   },
   "file_extension": ".py",
   "mimetype": "text/x-python",
   "name": "python",
   "nbconvert_exporter": "python",
   "pygments_lexer": "ipython3",
   "version": "3.9.13"
  }
 },
 "nbformat": 4,
 "nbformat_minor": 5
}
