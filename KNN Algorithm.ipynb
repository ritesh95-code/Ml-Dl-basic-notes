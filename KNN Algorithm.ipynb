{
 "cells": [
  {
   "cell_type": "code",
   "execution_count": null,
   "id": "fa5f2340",
   "metadata": {},
   "outputs": [],
   "source": [
    "import pandas as pd\n",
    "import numpy as np"
   ]
  },
  {
   "cell_type": "code",
   "execution_count": null,
   "id": "6b75303c",
   "metadata": {},
   "outputs": [],
   "source": [
    "df=pd.read_csv('loan_prediction.csv')"
   ]
  },
  {
   "cell_type": "code",
   "execution_count": null,
   "id": "1d5d88ac",
   "metadata": {},
   "outputs": [],
   "source": [
    "df.head()"
   ]
  },
  {
   "cell_type": "code",
   "execution_count": null,
   "id": "1ca3f1f4",
   "metadata": {},
   "outputs": [],
   "source": [
    "df.tail()"
   ]
  },
  {
   "cell_type": "code",
   "execution_count": null,
   "id": "be01de7f",
   "metadata": {},
   "outputs": [],
   "source": [
    "df.shape"
   ]
  },
  {
   "cell_type": "code",
   "execution_count": null,
   "id": "b5dc8921",
   "metadata": {},
   "outputs": [],
   "source": [
    "df.describe()"
   ]
  },
  {
   "cell_type": "code",
   "execution_count": null,
   "id": "fb8b7e1d",
   "metadata": {},
   "outputs": [],
   "source": [
    "df.isna().sum()"
   ]
  },
  {
   "cell_type": "code",
   "execution_count": null,
   "id": "d081a2f1",
   "metadata": {},
   "outputs": [],
   "source": [
    "df.drop(columns=['Loan_ID','Gender','Dependents','Self_Employed'],inplace=True)"
   ]
  },
  {
   "cell_type": "code",
   "execution_count": null,
   "id": "b5801ea8",
   "metadata": {},
   "outputs": [],
   "source": [
    "# Hndling Null Values\n",
    "df['Married'].fillna('Yes', inplace=True)\n",
    "df[\"LoanAmount\"].fillna(df['LoanAmount'].mean(),inplace=True)\n",
    "df[\"Loan_Amount_Term\"].fillna(df['Loan_Amount_Term'].mean(),inplace=True)\n",
    "df[\"Credit_History\"].fillna(df['Credit_History'].mean(),inplace=True)"
   ]
  },
  {
   "cell_type": "code",
   "execution_count": null,
   "id": "20356762",
   "metadata": {},
   "outputs": [],
   "source": [
    "df.info()"
   ]
  },
  {
   "cell_type": "code",
   "execution_count": null,
   "id": "d078be37",
   "metadata": {},
   "outputs": [],
   "source": [
    "df.isnull().sum()"
   ]
  },
  {
   "cell_type": "code",
   "execution_count": null,
   "id": "d6bd0456",
   "metadata": {},
   "outputs": [],
   "source": [
    "#Label Encoder\n",
    "from sklearn.preprocessing import LabelEncoder\n",
    "le=LabelEncoder()"
   ]
  },
  {
   "cell_type": "code",
   "execution_count": null,
   "id": "5643d264",
   "metadata": {},
   "outputs": [],
   "source": [
    "df['Married']=le.fit_transform(df['Married'])"
   ]
  },
  {
   "cell_type": "code",
   "execution_count": null,
   "id": "1a57925a",
   "metadata": {},
   "outputs": [],
   "source": [
    "df['Education']=le.fit_transform(df['Education'])\n",
    "df['Property_Area']=le.fit_transform(df['Property_Area'])\n",
    "df['Loan_Status']=le.fit_transform(df['Loan_Status'])\n",
    "\n"
   ]
  },
  {
   "cell_type": "code",
   "execution_count": null,
   "id": "745e4680",
   "metadata": {},
   "outputs": [],
   "source": [
    "df.head()"
   ]
  },
  {
   "cell_type": "code",
   "execution_count": null,
   "id": "7adf805e",
   "metadata": {},
   "outputs": [],
   "source": [
    "x=df.drop('Loan_Status',axis=1)\n",
    "y=df['Loan_Status']"
   ]
  },
  {
   "cell_type": "code",
   "execution_count": null,
   "id": "e86930f3",
   "metadata": {},
   "outputs": [],
   "source": [
    "from sklearn.preprocessing import MinMaxScaler"
   ]
  },
  {
   "cell_type": "code",
   "execution_count": null,
   "id": "f4d25994",
   "metadata": {},
   "outputs": [],
   "source": [
    "norm=MinMaxScaler()"
   ]
  },
  {
   "cell_type": "code",
   "execution_count": null,
   "id": "5d82367a",
   "metadata": {},
   "outputs": [],
   "source": [
    "x=norm.fit_transform(x)"
   ]
  },
  {
   "cell_type": "code",
   "execution_count": null,
   "id": "38038144",
   "metadata": {},
   "outputs": [],
   "source": [
    "x"
   ]
  },
  {
   "cell_type": "code",
   "execution_count": null,
   "id": "19c2d7f7",
   "metadata": {},
   "outputs": [],
   "source": [
    "from sklearn.model_selection import train_test_split\n"
   ]
  },
  {
   "cell_type": "code",
   "execution_count": null,
   "id": "20f24581",
   "metadata": {},
   "outputs": [],
   "source": [
    "x_train,x_test,y_train,y_test=train_test_split(x,y,test_size=0.2, random_state=0)"
   ]
  },
  {
   "cell_type": "code",
   "execution_count": null,
   "id": "249f36e8",
   "metadata": {},
   "outputs": [],
   "source": [
    "# Model Building\n",
    "from sklearn.neighbors import KNeighborsClassifier"
   ]
  },
  {
   "cell_type": "code",
   "execution_count": null,
   "id": "a129fa92",
   "metadata": {},
   "outputs": [],
   "source": [
    "knn=KNeighborsClassifier()"
   ]
  },
  {
   "cell_type": "code",
   "execution_count": null,
   "id": "4e7f775c",
   "metadata": {},
   "outputs": [],
   "source": [
    "#train the Model"
   ]
  },
  {
   "cell_type": "code",
   "execution_count": null,
   "id": "998d015d",
   "metadata": {},
   "outputs": [],
   "source": [
    "knn.fit(x_train,y_train)"
   ]
  },
  {
   "cell_type": "code",
   "execution_count": null,
   "id": "94a4f8ff",
   "metadata": {},
   "outputs": [],
   "source": [
    "#test the model\n",
    "pred=knn.predict(x_test)"
   ]
  },
  {
   "cell_type": "code",
   "execution_count": null,
   "id": "f5e1a7dc",
   "metadata": {},
   "outputs": [],
   "source": [
    "pred"
   ]
  },
  {
   "cell_type": "code",
   "execution_count": null,
   "id": "21bba175",
   "metadata": {},
   "outputs": [],
   "source": [
    "y_test"
   ]
  },
  {
   "cell_type": "code",
   "execution_count": null,
   "id": "3414ba4f",
   "metadata": {},
   "outputs": [],
   "source": [
    "from sklearn.metrics import accuracy_score, classification_report"
   ]
  },
  {
   "cell_type": "code",
   "execution_count": null,
   "id": "1a9714db",
   "metadata": {},
   "outputs": [],
   "source": [
    "accuracy_score(y_test,pred)"
   ]
  },
  {
   "cell_type": "code",
   "execution_count": null,
   "id": "847557c6",
   "metadata": {},
   "outputs": [],
   "source": [
    "print(classification_report(y_test,pred))"
   ]
  },
  {
   "cell_type": "code",
   "execution_count": null,
   "id": "3c578a00",
   "metadata": {},
   "outputs": [],
   "source": []
  }
 ],
 "metadata": {
  "kernelspec": {
   "display_name": "Python 3 (ipykernel)",
   "language": "python",
   "name": "python3"
  },
  "language_info": {
   "codemirror_mode": {
    "name": "ipython",
    "version": 3
   },
   "file_extension": ".py",
   "mimetype": "text/x-python",
   "name": "python",
   "nbconvert_exporter": "python",
   "pygments_lexer": "ipython3",
   "version": "3.9.13"
  }
 },
 "nbformat": 4,
 "nbformat_minor": 5
}
