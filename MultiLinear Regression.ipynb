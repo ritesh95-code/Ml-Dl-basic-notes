{
 "cells": [
  {
   "cell_type": "code",
   "execution_count": null,
   "id": "739b9670",
   "metadata": {},
   "outputs": [],
   "source": [
    "#import the necessary Libraries\n",
    "import numpy as np\n",
    "import pandas as pd\n",
    "import seaborn as sns\n",
    "import warnings\n",
    "\n",
    "# Ignore all warnings\n",
    "warnings.filterwarnings(\"ignore\")"
   ]
  },
  {
   "cell_type": "code",
   "execution_count": null,
   "id": "411a0d5a",
   "metadata": {},
   "outputs": [],
   "source": [
    "#Load the dataset\n",
    "data=pd.read_csv('50_Startups.csv')"
   ]
  },
  {
   "cell_type": "code",
   "execution_count": null,
   "id": "413e4ebf",
   "metadata": {},
   "outputs": [],
   "source": [
    "data.head()"
   ]
  },
  {
   "cell_type": "code",
   "execution_count": null,
   "id": "704fad06",
   "metadata": {},
   "outputs": [],
   "source": [
    "data.shape"
   ]
  },
  {
   "cell_type": "code",
   "execution_count": null,
   "id": "2aaa033c",
   "metadata": {},
   "outputs": [],
   "source": [
    "data.dtypes"
   ]
  },
  {
   "cell_type": "code",
   "execution_count": null,
   "id": "403da850",
   "metadata": {},
   "outputs": [],
   "source": [
    "data.isnull().sum()"
   ]
  },
  {
   "cell_type": "code",
   "execution_count": null,
   "id": "ea0af2ff",
   "metadata": {},
   "outputs": [],
   "source": [
    "data['State'].unique()"
   ]
  },
  {
   "cell_type": "code",
   "execution_count": null,
   "id": "8fd33d5f",
   "metadata": {},
   "outputs": [],
   "source": [
    "data['State'].value_counts()"
   ]
  },
  {
   "cell_type": "code",
   "execution_count": null,
   "id": "c4edb726",
   "metadata": {},
   "outputs": [],
   "source": [
    "data.head()"
   ]
  },
  {
   "cell_type": "code",
   "execution_count": null,
   "id": "c10e4a79",
   "metadata": {},
   "outputs": [],
   "source": [
    "#Encoding=Converting Categorical Column to Numerical Column\n",
    "from sklearn.preprocessing import LabelEncoder"
   ]
  },
  {
   "cell_type": "code",
   "execution_count": null,
   "id": "717fc93c",
   "metadata": {},
   "outputs": [],
   "source": [
    "#initialise the LabelEncode\n",
    "le=LabelEncoder()"
   ]
  },
  {
   "cell_type": "code",
   "execution_count": null,
   "id": "e03062b5",
   "metadata": {},
   "outputs": [],
   "source": [
    "data['State']=le.fit_transform(data['State'])"
   ]
  },
  {
   "cell_type": "code",
   "execution_count": null,
   "id": "01c1ef07",
   "metadata": {},
   "outputs": [],
   "source": [
    "data.head()"
   ]
  },
  {
   "cell_type": "code",
   "execution_count": null,
   "id": "2f02ca66",
   "metadata": {},
   "outputs": [],
   "source": [
    "data.info()"
   ]
  },
  {
   "cell_type": "code",
   "execution_count": null,
   "id": "189cd226",
   "metadata": {},
   "outputs": [],
   "source": [
    "#Sepearate the dependent and Independent variable\n",
    "y=data['Profit']\n",
    "x=data.drop(columns=['Profit'],axis=1)"
   ]
  },
  {
   "cell_type": "code",
   "execution_count": null,
   "id": "6ebe4828",
   "metadata": {},
   "outputs": [],
   "source": [
    "x"
   ]
  },
  {
   "cell_type": "code",
   "execution_count": null,
   "id": "e5dced0b",
   "metadata": {},
   "outputs": [],
   "source": [
    "y"
   ]
  },
  {
   "cell_type": "code",
   "execution_count": null,
   "id": "4ec9aa11",
   "metadata": {},
   "outputs": [],
   "source": [
    "#Scaling on Independent Feratures\n",
    "from sklearn.preprocessing import StandardScaler"
   ]
  },
  {
   "cell_type": "code",
   "execution_count": null,
   "id": "5a9b3b20",
   "metadata": {},
   "outputs": [],
   "source": [
    "names=x.columns"
   ]
  },
  {
   "cell_type": "code",
   "execution_count": null,
   "id": "da7b45bc",
   "metadata": {},
   "outputs": [],
   "source": [
    "names"
   ]
  },
  {
   "cell_type": "code",
   "execution_count": null,
   "id": "292f1906",
   "metadata": {},
   "outputs": [],
   "source": [
    "scale=StandardScaler()"
   ]
  },
  {
   "cell_type": "code",
   "execution_count": null,
   "id": "5bed3944",
   "metadata": {},
   "outputs": [],
   "source": [
    "x=scale.fit_transform(x)"
   ]
  },
  {
   "cell_type": "code",
   "execution_count": null,
   "id": "d3e52db3",
   "metadata": {},
   "outputs": [],
   "source": [
    "x"
   ]
  },
  {
   "cell_type": "code",
   "execution_count": null,
   "id": "5f549240",
   "metadata": {},
   "outputs": [],
   "source": [
    "x=pd.DataFrame(x,columns=names)\n",
    "x"
   ]
  },
  {
   "cell_type": "code",
   "execution_count": null,
   "id": "2299240c",
   "metadata": {},
   "outputs": [],
   "source": [
    "from sklearn.model_selection import train_test_split"
   ]
  },
  {
   "cell_type": "code",
   "execution_count": null,
   "id": "cd5ec20b",
   "metadata": {},
   "outputs": [],
   "source": [
    "x_train,x_test,y_train,y_test=train_test_split(x,y,test_size=0.2,random_state=0)\n",
    "#Splitting Dataset in 80% traing dataset and 20% in Test Dataset"
   ]
  },
  {
   "cell_type": "code",
   "execution_count": null,
   "id": "809c2b22",
   "metadata": {},
   "outputs": [],
   "source": [
    "#model building\n",
    "from sklearn.linear_model import LinearRegression"
   ]
  },
  {
   "cell_type": "code",
   "execution_count": null,
   "id": "7b667441",
   "metadata": {},
   "outputs": [],
   "source": [
    "model=LinearRegression()"
   ]
  },
  {
   "cell_type": "code",
   "execution_count": null,
   "id": "27336b37",
   "metadata": {},
   "outputs": [],
   "source": [
    "model"
   ]
  },
  {
   "cell_type": "code",
   "execution_count": null,
   "id": "b01b0c40",
   "metadata": {},
   "outputs": [],
   "source": [
    "#Fit the model with train data\n",
    "model.fit(x_train,y_train)"
   ]
  },
  {
   "cell_type": "code",
   "execution_count": null,
   "id": "84946ffa",
   "metadata": {},
   "outputs": [],
   "source": [
    "# test the Model\n",
    "pred=model.predict(x_test)"
   ]
  },
  {
   "cell_type": "code",
   "execution_count": null,
   "id": "ff34046a",
   "metadata": {},
   "outputs": [],
   "source": [
    "pred"
   ]
  },
  {
   "cell_type": "code",
   "execution_count": null,
   "id": "fbd67f0f",
   "metadata": {},
   "outputs": [],
   "source": [
    "y_test"
   ]
  },
  {
   "cell_type": "code",
   "execution_count": null,
   "id": "9ab14f0a",
   "metadata": {},
   "outputs": [],
   "source": [
    "E=pred-y_test"
   ]
  },
  {
   "cell_type": "code",
   "execution_count": null,
   "id": "631975db",
   "metadata": {},
   "outputs": [],
   "source": [
    "E"
   ]
  },
  {
   "cell_type": "code",
   "execution_count": null,
   "id": "1064a85d",
   "metadata": {},
   "outputs": [],
   "source": [
    "#r2 Score--Accuracy of the model\n"
   ]
  },
  {
   "cell_type": "code",
   "execution_count": null,
   "id": "8ec007b7",
   "metadata": {},
   "outputs": [],
   "source": [
    "from sklearn.metrics import r2_score"
   ]
  },
  {
   "cell_type": "code",
   "execution_count": null,
   "id": "b990548f",
   "metadata": {},
   "outputs": [],
   "source": [
    "r2_score(pred,y_test)*100"
   ]
  },
  {
   "cell_type": "code",
   "execution_count": null,
   "id": "bac4b55a",
   "metadata": {},
   "outputs": [],
   "source": []
  }
 ],
 "metadata": {
  "kernelspec": {
   "display_name": "Python 3 (ipykernel)",
   "language": "python",
   "name": "python3"
  },
  "language_info": {
   "codemirror_mode": {
    "name": "ipython",
    "version": 3
   },
   "file_extension": ".py",
   "mimetype": "text/x-python",
   "name": "python",
   "nbconvert_exporter": "python",
   "pygments_lexer": "ipython3",
   "version": "3.9.13"
  }
 },
 "nbformat": 4,
 "nbformat_minor": 5
}
